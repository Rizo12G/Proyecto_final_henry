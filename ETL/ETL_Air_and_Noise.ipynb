{
 "cells": [
  {
   "cell_type": "markdown",
   "metadata": {},
   "source": [
    "# ETL\n"
   ]
  },
  {
   "cell_type": "code",
   "execution_count": 1,
   "metadata": {},
   "outputs": [],
   "source": [
    "import pandas as pd\n",
    "import matplotlib.pyplot as plt\n",
    "import seaborn as sns"
   ]
  },
  {
   "cell_type": "markdown",
   "metadata": {},
   "source": [
    "## Air Quality"
   ]
  },
  {
   "cell_type": "markdown",
   "metadata": {},
   "source": [
    "### Importamos los Datos"
   ]
  },
  {
   "cell_type": "code",
   "execution_count": 2,
   "metadata": {},
   "outputs": [
    {
     "data": {
      "text/html": [
       "<div>\n",
       "<style scoped>\n",
       "    .dataframe tbody tr th:only-of-type {\n",
       "        vertical-align: middle;\n",
       "    }\n",
       "\n",
       "    .dataframe tbody tr th {\n",
       "        vertical-align: top;\n",
       "    }\n",
       "\n",
       "    .dataframe thead th {\n",
       "        text-align: right;\n",
       "    }\n",
       "</style>\n",
       "<table border=\"1\" class=\"dataframe\">\n",
       "  <thead>\n",
       "    <tr style=\"text-align: right;\">\n",
       "      <th></th>\n",
       "      <th>Unique ID</th>\n",
       "      <th>Indicator ID</th>\n",
       "      <th>Name</th>\n",
       "      <th>Measure</th>\n",
       "      <th>Measure Info</th>\n",
       "      <th>Geo Type Name</th>\n",
       "      <th>Geo Join ID</th>\n",
       "      <th>Geo Place Name</th>\n",
       "      <th>Time Period</th>\n",
       "      <th>Start_Date</th>\n",
       "      <th>Data Value</th>\n",
       "      <th>Message</th>\n",
       "    </tr>\n",
       "  </thead>\n",
       "  <tbody>\n",
       "    <tr>\n",
       "      <th>0</th>\n",
       "      <td>179772</td>\n",
       "      <td>640</td>\n",
       "      <td>Boiler Emissions- Total SO2 Emissions</td>\n",
       "      <td>Number per km2</td>\n",
       "      <td>number</td>\n",
       "      <td>UHF42</td>\n",
       "      <td>409.0</td>\n",
       "      <td>Southeast Queens</td>\n",
       "      <td>2015</td>\n",
       "      <td>01/01/2015</td>\n",
       "      <td>0.3</td>\n",
       "      <td>NaN</td>\n",
       "    </tr>\n",
       "    <tr>\n",
       "      <th>1</th>\n",
       "      <td>179785</td>\n",
       "      <td>640</td>\n",
       "      <td>Boiler Emissions- Total SO2 Emissions</td>\n",
       "      <td>Number per km2</td>\n",
       "      <td>number</td>\n",
       "      <td>UHF42</td>\n",
       "      <td>209.0</td>\n",
       "      <td>Bensonhurst - Bay Ridge</td>\n",
       "      <td>2015</td>\n",
       "      <td>01/01/2015</td>\n",
       "      <td>1.2</td>\n",
       "      <td>NaN</td>\n",
       "    </tr>\n",
       "    <tr>\n",
       "      <th>2</th>\n",
       "      <td>178540</td>\n",
       "      <td>365</td>\n",
       "      <td>Fine particles (PM 2.5)</td>\n",
       "      <td>Mean</td>\n",
       "      <td>mcg/m3</td>\n",
       "      <td>UHF42</td>\n",
       "      <td>209.0</td>\n",
       "      <td>Bensonhurst - Bay Ridge</td>\n",
       "      <td>Annual Average 2012</td>\n",
       "      <td>12/01/2011</td>\n",
       "      <td>8.6</td>\n",
       "      <td>NaN</td>\n",
       "    </tr>\n",
       "    <tr>\n",
       "      <th>3</th>\n",
       "      <td>178561</td>\n",
       "      <td>365</td>\n",
       "      <td>Fine particles (PM 2.5)</td>\n",
       "      <td>Mean</td>\n",
       "      <td>mcg/m3</td>\n",
       "      <td>UHF42</td>\n",
       "      <td>409.0</td>\n",
       "      <td>Southeast Queens</td>\n",
       "      <td>Annual Average 2012</td>\n",
       "      <td>12/01/2011</td>\n",
       "      <td>8.0</td>\n",
       "      <td>NaN</td>\n",
       "    </tr>\n",
       "    <tr>\n",
       "      <th>4</th>\n",
       "      <td>823217</td>\n",
       "      <td>365</td>\n",
       "      <td>Fine particles (PM 2.5)</td>\n",
       "      <td>Mean</td>\n",
       "      <td>mcg/m3</td>\n",
       "      <td>UHF42</td>\n",
       "      <td>409.0</td>\n",
       "      <td>Southeast Queens</td>\n",
       "      <td>Summer 2022</td>\n",
       "      <td>06/01/2022</td>\n",
       "      <td>6.1</td>\n",
       "      <td>NaN</td>\n",
       "    </tr>\n",
       "    <tr>\n",
       "      <th>...</th>\n",
       "      <td>...</td>\n",
       "      <td>...</td>\n",
       "      <td>...</td>\n",
       "      <td>...</td>\n",
       "      <td>...</td>\n",
       "      <td>...</td>\n",
       "      <td>...</td>\n",
       "      <td>...</td>\n",
       "      <td>...</td>\n",
       "      <td>...</td>\n",
       "      <td>...</td>\n",
       "      <td>...</td>\n",
       "    </tr>\n",
       "    <tr>\n",
       "      <th>18020</th>\n",
       "      <td>816914</td>\n",
       "      <td>643</td>\n",
       "      <td>Annual vehicle miles traveled</td>\n",
       "      <td>Million miles</td>\n",
       "      <td>per square mile</td>\n",
       "      <td>CD</td>\n",
       "      <td>503.0</td>\n",
       "      <td>Tottenville and Great Kills (CD3)</td>\n",
       "      <td>2019</td>\n",
       "      <td>01/01/2019</td>\n",
       "      <td>12.9</td>\n",
       "      <td>NaN</td>\n",
       "    </tr>\n",
       "    <tr>\n",
       "      <th>18021</th>\n",
       "      <td>816913</td>\n",
       "      <td>643</td>\n",
       "      <td>Annual vehicle miles traveled</td>\n",
       "      <td>Million miles</td>\n",
       "      <td>per square mile</td>\n",
       "      <td>CD</td>\n",
       "      <td>503.0</td>\n",
       "      <td>Tottenville and Great Kills (CD3)</td>\n",
       "      <td>2010</td>\n",
       "      <td>01/01/2010</td>\n",
       "      <td>14.7</td>\n",
       "      <td>NaN</td>\n",
       "    </tr>\n",
       "    <tr>\n",
       "      <th>18022</th>\n",
       "      <td>816872</td>\n",
       "      <td>643</td>\n",
       "      <td>Annual vehicle miles traveled</td>\n",
       "      <td>Million miles</td>\n",
       "      <td>per square mile</td>\n",
       "      <td>UHF42</td>\n",
       "      <td>208.0</td>\n",
       "      <td>Canarsie - Flatlands</td>\n",
       "      <td>2010</td>\n",
       "      <td>01/01/2010</td>\n",
       "      <td>43.4</td>\n",
       "      <td>NaN</td>\n",
       "    </tr>\n",
       "    <tr>\n",
       "      <th>18023</th>\n",
       "      <td>816832</td>\n",
       "      <td>643</td>\n",
       "      <td>Annual vehicle miles traveled</td>\n",
       "      <td>Million miles</td>\n",
       "      <td>per square mile</td>\n",
       "      <td>UHF42</td>\n",
       "      <td>407.0</td>\n",
       "      <td>Southwest Queens</td>\n",
       "      <td>2010</td>\n",
       "      <td>01/01/2010</td>\n",
       "      <td>65.8</td>\n",
       "      <td>NaN</td>\n",
       "    </tr>\n",
       "    <tr>\n",
       "      <th>18024</th>\n",
       "      <td>151658</td>\n",
       "      <td>643</td>\n",
       "      <td>Annual vehicle miles traveled</td>\n",
       "      <td>Million miles</td>\n",
       "      <td>per square mile</td>\n",
       "      <td>UHF42</td>\n",
       "      <td>408.0</td>\n",
       "      <td>Jamaica</td>\n",
       "      <td>2005</td>\n",
       "      <td>01/01/2005</td>\n",
       "      <td>41.0</td>\n",
       "      <td>NaN</td>\n",
       "    </tr>\n",
       "  </tbody>\n",
       "</table>\n",
       "<p>18025 rows × 12 columns</p>\n",
       "</div>"
      ],
      "text/plain": [
       "       Unique ID  Indicator ID                                   Name  \\\n",
       "0         179772           640  Boiler Emissions- Total SO2 Emissions   \n",
       "1         179785           640  Boiler Emissions- Total SO2 Emissions   \n",
       "2         178540           365                Fine particles (PM 2.5)   \n",
       "3         178561           365                Fine particles (PM 2.5)   \n",
       "4         823217           365                Fine particles (PM 2.5)   \n",
       "...          ...           ...                                    ...   \n",
       "18020     816914           643          Annual vehicle miles traveled   \n",
       "18021     816913           643          Annual vehicle miles traveled   \n",
       "18022     816872           643          Annual vehicle miles traveled   \n",
       "18023     816832           643          Annual vehicle miles traveled   \n",
       "18024     151658           643          Annual vehicle miles traveled   \n",
       "\n",
       "              Measure     Measure Info Geo Type Name  Geo Join ID  \\\n",
       "0      Number per km2           number         UHF42        409.0   \n",
       "1      Number per km2           number         UHF42        209.0   \n",
       "2                Mean           mcg/m3         UHF42        209.0   \n",
       "3                Mean           mcg/m3         UHF42        409.0   \n",
       "4                Mean           mcg/m3         UHF42        409.0   \n",
       "...               ...              ...           ...          ...   \n",
       "18020   Million miles  per square mile            CD        503.0   \n",
       "18021   Million miles  per square mile            CD        503.0   \n",
       "18022   Million miles  per square mile         UHF42        208.0   \n",
       "18023   Million miles  per square mile         UHF42        407.0   \n",
       "18024   Million miles  per square mile         UHF42        408.0   \n",
       "\n",
       "                          Geo Place Name          Time Period  Start_Date  \\\n",
       "0                       Southeast Queens                 2015  01/01/2015   \n",
       "1                Bensonhurst - Bay Ridge                 2015  01/01/2015   \n",
       "2                Bensonhurst - Bay Ridge  Annual Average 2012  12/01/2011   \n",
       "3                       Southeast Queens  Annual Average 2012  12/01/2011   \n",
       "4                       Southeast Queens          Summer 2022  06/01/2022   \n",
       "...                                  ...                  ...         ...   \n",
       "18020  Tottenville and Great Kills (CD3)                 2019  01/01/2019   \n",
       "18021  Tottenville and Great Kills (CD3)                 2010  01/01/2010   \n",
       "18022               Canarsie - Flatlands                 2010  01/01/2010   \n",
       "18023                   Southwest Queens                 2010  01/01/2010   \n",
       "18024                            Jamaica                 2005  01/01/2005   \n",
       "\n",
       "       Data Value  Message  \n",
       "0             0.3      NaN  \n",
       "1             1.2      NaN  \n",
       "2             8.6      NaN  \n",
       "3             8.0      NaN  \n",
       "4             6.1      NaN  \n",
       "...           ...      ...  \n",
       "18020        12.9      NaN  \n",
       "18021        14.7      NaN  \n",
       "18022        43.4      NaN  \n",
       "18023        65.8      NaN  \n",
       "18024        41.0      NaN  \n",
       "\n",
       "[18025 rows x 12 columns]"
      ]
     },
     "execution_count": 2,
     "metadata": {},
     "output_type": "execute_result"
    }
   ],
   "source": [
    "aire = pd.read_csv(\"../raw_data/air_quality.csv\")\n",
    "aire"
   ]
  },
  {
   "cell_type": "markdown",
   "metadata": {},
   "source": [
    "### Comprobamos Nulos\n"
   ]
  },
  {
   "cell_type": "code",
   "execution_count": 3,
   "metadata": {},
   "outputs": [
    {
     "data": {
      "text/plain": [
       "Unique ID             0\n",
       "Indicator ID          0\n",
       "Name                  0\n",
       "Measure               0\n",
       "Measure Info          0\n",
       "Geo Type Name         0\n",
       "Geo Join ID           9\n",
       "Geo Place Name        9\n",
       "Time Period           0\n",
       "Start_Date            0\n",
       "Data Value            0\n",
       "Message           18025\n",
       "dtype: int64"
      ]
     },
     "execution_count": 3,
     "metadata": {},
     "output_type": "execute_result"
    }
   ],
   "source": [
    "aire.isnull().sum()"
   ]
  },
  {
   "cell_type": "markdown",
   "metadata": {},
   "source": [
    "Debido a que toda la columna Message contiene únicamente valores nulos, se procede a su eliminación."
   ]
  },
  {
   "cell_type": "code",
   "execution_count": 4,
   "metadata": {},
   "outputs": [],
   "source": [
    "aire = aire.drop('Message', axis=1)"
   ]
  },
  {
   "cell_type": "markdown",
   "metadata": {},
   "source": [
    "Las columnas Geo Join ID y Geo Place Name contienen 9 valores nulos que serán reemplazados por SD = Sin Dato."
   ]
  },
  {
   "cell_type": "code",
   "execution_count": 5,
   "metadata": {},
   "outputs": [],
   "source": [
    "aire[['Geo Join ID', 'Geo Place Name']] = aire[['Geo Join ID', 'Geo Place Name']].fillna('SD')"
   ]
  },
  {
   "cell_type": "markdown",
   "metadata": {},
   "source": [
    "### Chequeo Duplicados"
   ]
  },
  {
   "cell_type": "markdown",
   "metadata": {},
   "source": [
    "No hay filas duplicadas."
   ]
  },
  {
   "cell_type": "code",
   "execution_count": 6,
   "metadata": {},
   "outputs": [
    {
     "data": {
      "text/html": [
       "<div>\n",
       "<style scoped>\n",
       "    .dataframe tbody tr th:only-of-type {\n",
       "        vertical-align: middle;\n",
       "    }\n",
       "\n",
       "    .dataframe tbody tr th {\n",
       "        vertical-align: top;\n",
       "    }\n",
       "\n",
       "    .dataframe thead th {\n",
       "        text-align: right;\n",
       "    }\n",
       "</style>\n",
       "<table border=\"1\" class=\"dataframe\">\n",
       "  <thead>\n",
       "    <tr style=\"text-align: right;\">\n",
       "      <th></th>\n",
       "      <th>Unique ID</th>\n",
       "      <th>Indicator ID</th>\n",
       "      <th>Name</th>\n",
       "      <th>Measure</th>\n",
       "      <th>Measure Info</th>\n",
       "      <th>Geo Type Name</th>\n",
       "      <th>Geo Join ID</th>\n",
       "      <th>Geo Place Name</th>\n",
       "      <th>Time Period</th>\n",
       "      <th>Start_Date</th>\n",
       "      <th>Data Value</th>\n",
       "    </tr>\n",
       "  </thead>\n",
       "  <tbody>\n",
       "  </tbody>\n",
       "</table>\n",
       "</div>"
      ],
      "text/plain": [
       "Empty DataFrame\n",
       "Columns: [Unique ID, Indicator ID, Name, Measure, Measure Info, Geo Type Name, Geo Join ID, Geo Place Name, Time Period, Start_Date, Data Value]\n",
       "Index: []"
      ]
     },
     "execution_count": 6,
     "metadata": {},
     "output_type": "execute_result"
    }
   ],
   "source": [
    "aire[aire.duplicated()]"
   ]
  },
  {
   "cell_type": "markdown",
   "metadata": {},
   "source": [
    "### Start Date"
   ]
  },
  {
   "cell_type": "markdown",
   "metadata": {},
   "source": [
    "De esta columna se extraerá el año y el mes para posteriores análisis, por ende, se crean nuevas columnas y se borra la existente junto con Time Period."
   ]
  },
  {
   "cell_type": "code",
   "execution_count": 7,
   "metadata": {},
   "outputs": [],
   "source": [
    "#  Se cambia el tipo de dato a Datetime\n",
    "aire['Start_Date'] = pd.to_datetime(aire['Start_Date'].astype(str).str.strip(), format='mixed', errors='coerce')"
   ]
  },
  {
   "cell_type": "code",
   "execution_count": 8,
   "metadata": {},
   "outputs": [],
   "source": [
    "# Se extrae el año y se crea una nueva columna\n",
    "aire['year'] = aire['Start_Date'].dt.year"
   ]
  },
  {
   "cell_type": "code",
   "execution_count": 9,
   "metadata": {},
   "outputs": [],
   "source": [
    "# Se extrae el mes y se crea una nueva columna\n",
    "aire['month'] = aire['Start_Date'].dt.month"
   ]
  },
  {
   "cell_type": "code",
   "execution_count": 10,
   "metadata": {},
   "outputs": [],
   "source": [
    "# Se borra la columna existente\n",
    "aire = aire.drop('Start_Date', axis=1)\n",
    "# Se borra la columna Time Period\n",
    "aire = aire.drop('Time Period', axis=1)"
   ]
  },
  {
   "cell_type": "markdown",
   "metadata": {},
   "source": [
    "### Buscamos Outliers "
   ]
  },
  {
   "cell_type": "code",
   "execution_count": 11,
   "metadata": {},
   "outputs": [
    {
     "data": {
      "image/png": "[encoded data removed]",
      "text/plain": [
       "<Figure size 640x480 with 1 Axes>"
      ]
     },
     "metadata": {},
     "output_type": "display_data"
    }
   ],
   "source": [
    "plt.boxplot(aire['Data Value'])\n",
    "plt.title('Boxplot de Data Value')\n",
    "plt.xlabel('Data Value')\n",
    "plt.ylabel('Valores')\n",
    "plt.show()"
   ]
  },
  {
   "cell_type": "code",
   "execution_count": 12,
   "metadata": {},
   "outputs": [],
   "source": [
    "def outliers (col):\n",
    "    '''\n",
    "    Funcion que imprime los valores mínimo, máximo, cantidad de outliers y su porcentaje en formato de tabla\n",
    "        Parámetros:\n",
    "            col (str): Nombre de la columna\n",
    "    '''\n",
    "    Q3 = float(aire[col].quantile(0.75))\n",
    "    Q1 = float(aire[col].quantile(0.25))\n",
    "    RIC = Q3 - Q1\n",
    "\n",
    "    Min = Q1 - 1.5*RIC\n",
    "    Max = Q3 + 1.5*RIC\n",
    "\n",
    "    out = aire[(aire[col]<Min)|(aire[col]>Max)]\n",
    "    m = aire[col].mean()\n",
    "    c = out.shape[0] \n",
    "    p = (c/aire.shape[0])*100\n",
    "\n",
    "    print(f'| {col} | {round(m,2)} | {round(Min,2)} | {round(Max,2)} | {round(c,2)} | {round(p,2)} % |')"
   ]
  },
  {
   "cell_type": "code",
   "execution_count": 13,
   "metadata": {},
   "outputs": [
    {
     "name": "stdout",
     "output_type": "stream",
     "text": [
      "| Data Value | 21.43 | -17.8 | 53.4 | 980 | 5.44 % |\n"
     ]
    }
   ],
   "source": [
    "outliers('Data Value')"
   ]
  },
  {
   "cell_type": "markdown",
   "metadata": {},
   "source": [
    "La columna Data Value del dataframe AIRE contiene 980 outliers, los cuales representan el 5.44% del total de los datos, estos se proceden a eliminar para mantener la mayor consistencia posible."
   ]
  },
  {
   "cell_type": "code",
   "execution_count": 14,
   "metadata": {},
   "outputs": [],
   "source": [
    "# Eliminación de Outliers\n",
    "Q3 = float(aire['Data Value'].quantile(0.75))\n",
    "Q1 = float(aire['Data Value'].quantile(0.25))\n",
    "RIC = Q3 - Q1\n",
    "\n",
    "Min = Q1 - 1.5*RIC\n",
    "Max = Q3 + 1.5*RIC\n",
    "\n",
    "aire = aire[(aire['Data Value'] >= Min) & (aire['Data Value'] <= Max)]"
   ]
  },
  {
   "cell_type": "markdown",
   "metadata": {},
   "source": [
    "### Distribucion de Data Value"
   ]
  },
  {
   "cell_type": "code",
   "execution_count": 15,
   "metadata": {},
   "outputs": [
    {
     "data": {
      "image/png": "[encoded data removed]",
      "text/plain": [
       "<Figure size 1000x600 with 1 Axes>"
      ]
     },
     "metadata": {},
     "output_type": "display_data"
    }
   ],
   "source": [
    "plt.figure(figsize=(10, 6))\n",
    "sns.histplot(aire['Data Value'], bins=30, kde=True)\n",
    "plt.title('Distribución de Data Value')\n",
    "plt.xlabel('Data Value')\n",
    "plt.ylabel('Frecuencia')\n",
    "plt.show()"
   ]
  },
  {
   "cell_type": "markdown",
   "metadata": {},
   "source": [
    "### Observaciones:"
   ]
  },
  {
   "cell_type": "markdown",
   "metadata": {},
   "source": [
    "- Hay presencia de 9 valores nulos en las columnas Geo Type Name y Geo Joiny. En la columna Message todos sus valores son nulos.\n",
    "- No hay valores duplicados.\n",
    "- Hay 980 outliers."
   ]
  },
  {
   "cell_type": "markdown",
   "metadata": {},
   "source": [
    "## Noise Polution\n"
   ]
  },
  {
   "cell_type": "markdown",
   "metadata": {},
   "source": [
    "### Importamos los datos"
   ]
  },
  {
   "cell_type": "code",
   "execution_count": 27,
   "metadata": {},
   "outputs": [
    {
     "data": {
      "text/html": [
       "<div>\n",
       "<style scoped>\n",
       "    .dataframe tbody tr th:only-of-type {\n",
       "        vertical-align: middle;\n",
       "    }\n",
       "\n",
       "    .dataframe tbody tr th {\n",
       "        vertical-align: top;\n",
       "    }\n",
       "\n",
       "    .dataframe thead th {\n",
       "        text-align: right;\n",
       "    }\n",
       "</style>\n",
       "<table border=\"1\" class=\"dataframe\">\n",
       "  <thead>\n",
       "    <tr style=\"text-align: right;\">\n",
       "      <th></th>\n",
       "      <th>split</th>\n",
       "      <th>sensor_id</th>\n",
       "      <th>audio_filename</th>\n",
       "      <th>annotator_id</th>\n",
       "      <th>borough</th>\n",
       "      <th>block</th>\n",
       "      <th>latitude</th>\n",
       "      <th>longitude</th>\n",
       "      <th>year</th>\n",
       "      <th>week</th>\n",
       "      <th>...</th>\n",
       "      <th>7-X_other-unknown-human-voice_proximity</th>\n",
       "      <th>8-1_dog-barking-whining_proximity</th>\n",
       "      <th>1_engine_presence</th>\n",
       "      <th>2_machinery-impact_presence</th>\n",
       "      <th>3_non-machinery-impact_presence</th>\n",
       "      <th>4_powered-saw_presence</th>\n",
       "      <th>5_alert-signal_presence</th>\n",
       "      <th>6_music_presence</th>\n",
       "      <th>7_human-voice_presence</th>\n",
       "      <th>8_dog_presence</th>\n",
       "    </tr>\n",
       "  </thead>\n",
       "  <tbody>\n",
       "    <tr>\n",
       "      <th>0</th>\n",
       "      <td>test</td>\n",
       "      <td>0</td>\n",
       "      <td>00_026884.wav</td>\n",
       "      <td>-6</td>\n",
       "      <td>1</td>\n",
       "      <td>547</td>\n",
       "      <td>40.72951</td>\n",
       "      <td>-73.99388</td>\n",
       "      <td>2019</td>\n",
       "      <td>43</td>\n",
       "      <td>...</td>\n",
       "      <td>-1</td>\n",
       "      <td>-1</td>\n",
       "      <td>-1</td>\n",
       "      <td>1</td>\n",
       "      <td>0</td>\n",
       "      <td>-1</td>\n",
       "      <td>-1</td>\n",
       "      <td>-1</td>\n",
       "      <td>-1</td>\n",
       "      <td>-1</td>\n",
       "    </tr>\n",
       "    <tr>\n",
       "      <th>1</th>\n",
       "      <td>test</td>\n",
       "      <td>0</td>\n",
       "      <td>00_026884.wav</td>\n",
       "      <td>-4</td>\n",
       "      <td>1</td>\n",
       "      <td>547</td>\n",
       "      <td>40.72951</td>\n",
       "      <td>-73.99388</td>\n",
       "      <td>2019</td>\n",
       "      <td>43</td>\n",
       "      <td>...</td>\n",
       "      <td>-1</td>\n",
       "      <td>-1</td>\n",
       "      <td>1</td>\n",
       "      <td>-1</td>\n",
       "      <td>-1</td>\n",
       "      <td>-1</td>\n",
       "      <td>-1</td>\n",
       "      <td>-1</td>\n",
       "      <td>-1</td>\n",
       "      <td>-1</td>\n",
       "    </tr>\n",
       "    <tr>\n",
       "      <th>2</th>\n",
       "      <td>test</td>\n",
       "      <td>0</td>\n",
       "      <td>00_026884.wav</td>\n",
       "      <td>-3</td>\n",
       "      <td>1</td>\n",
       "      <td>547</td>\n",
       "      <td>40.72951</td>\n",
       "      <td>-73.99388</td>\n",
       "      <td>2019</td>\n",
       "      <td>43</td>\n",
       "      <td>...</td>\n",
       "      <td>-1</td>\n",
       "      <td>-1</td>\n",
       "      <td>1</td>\n",
       "      <td>-1</td>\n",
       "      <td>-1</td>\n",
       "      <td>-1</td>\n",
       "      <td>-1</td>\n",
       "      <td>-1</td>\n",
       "      <td>-1</td>\n",
       "      <td>-1</td>\n",
       "    </tr>\n",
       "    <tr>\n",
       "      <th>3</th>\n",
       "      <td>test</td>\n",
       "      <td>0</td>\n",
       "      <td>00_026884.wav</td>\n",
       "      <td>-1</td>\n",
       "      <td>1</td>\n",
       "      <td>547</td>\n",
       "      <td>40.72951</td>\n",
       "      <td>-73.99388</td>\n",
       "      <td>2019</td>\n",
       "      <td>43</td>\n",
       "      <td>...</td>\n",
       "      <td>-1</td>\n",
       "      <td>-1</td>\n",
       "      <td>-1</td>\n",
       "      <td>0</td>\n",
       "      <td>0</td>\n",
       "      <td>-1</td>\n",
       "      <td>-1</td>\n",
       "      <td>-1</td>\n",
       "      <td>-1</td>\n",
       "      <td>-1</td>\n",
       "    </tr>\n",
       "    <tr>\n",
       "      <th>4</th>\n",
       "      <td>test</td>\n",
       "      <td>0</td>\n",
       "      <td>00_026884.wav</td>\n",
       "      <td>0</td>\n",
       "      <td>1</td>\n",
       "      <td>547</td>\n",
       "      <td>40.72951</td>\n",
       "      <td>-73.99388</td>\n",
       "      <td>2019</td>\n",
       "      <td>43</td>\n",
       "      <td>...</td>\n",
       "      <td>-1</td>\n",
       "      <td>-1</td>\n",
       "      <td>1</td>\n",
       "      <td>0</td>\n",
       "      <td>1</td>\n",
       "      <td>0</td>\n",
       "      <td>0</td>\n",
       "      <td>0</td>\n",
       "      <td>0</td>\n",
       "      <td>0</td>\n",
       "    </tr>\n",
       "    <tr>\n",
       "      <th>...</th>\n",
       "      <td>...</td>\n",
       "      <td>...</td>\n",
       "      <td>...</td>\n",
       "      <td>...</td>\n",
       "      <td>...</td>\n",
       "      <td>...</td>\n",
       "      <td>...</td>\n",
       "      <td>...</td>\n",
       "      <td>...</td>\n",
       "      <td>...</td>\n",
       "      <td>...</td>\n",
       "      <td>...</td>\n",
       "      <td>...</td>\n",
       "      <td>...</td>\n",
       "      <td>...</td>\n",
       "      <td>...</td>\n",
       "      <td>...</td>\n",
       "      <td>...</td>\n",
       "      <td>...</td>\n",
       "      <td>...</td>\n",
       "      <td>...</td>\n",
       "    </tr>\n",
       "    <tr>\n",
       "      <th>62017</th>\n",
       "      <td>validate</td>\n",
       "      <td>46</td>\n",
       "      <td>46_020807.wav</td>\n",
       "      <td>5399</td>\n",
       "      <td>1</td>\n",
       "      <td>559</td>\n",
       "      <td>40.73365</td>\n",
       "      <td>-73.98879</td>\n",
       "      <td>2018</td>\n",
       "      <td>42</td>\n",
       "      <td>...</td>\n",
       "      <td>-1</td>\n",
       "      <td>-1</td>\n",
       "      <td>0</td>\n",
       "      <td>0</td>\n",
       "      <td>0</td>\n",
       "      <td>0</td>\n",
       "      <td>1</td>\n",
       "      <td>0</td>\n",
       "      <td>0</td>\n",
       "      <td>0</td>\n",
       "    </tr>\n",
       "    <tr>\n",
       "      <th>62018</th>\n",
       "      <td>validate</td>\n",
       "      <td>46</td>\n",
       "      <td>46_020807.wav</td>\n",
       "      <td>5424</td>\n",
       "      <td>1</td>\n",
       "      <td>559</td>\n",
       "      <td>40.73365</td>\n",
       "      <td>-73.98879</td>\n",
       "      <td>2018</td>\n",
       "      <td>42</td>\n",
       "      <td>...</td>\n",
       "      <td>-1</td>\n",
       "      <td>-1</td>\n",
       "      <td>0</td>\n",
       "      <td>0</td>\n",
       "      <td>0</td>\n",
       "      <td>0</td>\n",
       "      <td>1</td>\n",
       "      <td>0</td>\n",
       "      <td>1</td>\n",
       "      <td>0</td>\n",
       "    </tr>\n",
       "    <tr>\n",
       "      <th>62019</th>\n",
       "      <td>validate</td>\n",
       "      <td>46</td>\n",
       "      <td>46_020853.wav</td>\n",
       "      <td>5337</td>\n",
       "      <td>1</td>\n",
       "      <td>559</td>\n",
       "      <td>40.73365</td>\n",
       "      <td>-73.98879</td>\n",
       "      <td>2018</td>\n",
       "      <td>34</td>\n",
       "      <td>...</td>\n",
       "      <td>far</td>\n",
       "      <td>-1</td>\n",
       "      <td>0</td>\n",
       "      <td>0</td>\n",
       "      <td>0</td>\n",
       "      <td>0</td>\n",
       "      <td>0</td>\n",
       "      <td>0</td>\n",
       "      <td>1</td>\n",
       "      <td>0</td>\n",
       "    </tr>\n",
       "    <tr>\n",
       "      <th>62020</th>\n",
       "      <td>validate</td>\n",
       "      <td>46</td>\n",
       "      <td>46_020853.wav</td>\n",
       "      <td>5365</td>\n",
       "      <td>1</td>\n",
       "      <td>559</td>\n",
       "      <td>40.73365</td>\n",
       "      <td>-73.98879</td>\n",
       "      <td>2018</td>\n",
       "      <td>34</td>\n",
       "      <td>...</td>\n",
       "      <td>-1</td>\n",
       "      <td>-1</td>\n",
       "      <td>0</td>\n",
       "      <td>0</td>\n",
       "      <td>0</td>\n",
       "      <td>0</td>\n",
       "      <td>0</td>\n",
       "      <td>0</td>\n",
       "      <td>0</td>\n",
       "      <td>0</td>\n",
       "    </tr>\n",
       "    <tr>\n",
       "      <th>62021</th>\n",
       "      <td>validate</td>\n",
       "      <td>46</td>\n",
       "      <td>46_020853.wav</td>\n",
       "      <td>5373</td>\n",
       "      <td>1</td>\n",
       "      <td>559</td>\n",
       "      <td>40.73365</td>\n",
       "      <td>-73.98879</td>\n",
       "      <td>2018</td>\n",
       "      <td>34</td>\n",
       "      <td>...</td>\n",
       "      <td>-1</td>\n",
       "      <td>-1</td>\n",
       "      <td>1</td>\n",
       "      <td>0</td>\n",
       "      <td>1</td>\n",
       "      <td>0</td>\n",
       "      <td>0</td>\n",
       "      <td>0</td>\n",
       "      <td>1</td>\n",
       "      <td>0</td>\n",
       "    </tr>\n",
       "  </tbody>\n",
       "</table>\n",
       "<p>62022 rows × 78 columns</p>\n",
       "</div>"
      ],
      "text/plain": [
       "          split  sensor_id audio_filename  annotator_id  borough  block  \\\n",
       "0          test          0  00_026884.wav            -6        1    547   \n",
       "1          test          0  00_026884.wav            -4        1    547   \n",
       "2          test          0  00_026884.wav            -3        1    547   \n",
       "3          test          0  00_026884.wav            -1        1    547   \n",
       "4          test          0  00_026884.wav             0        1    547   \n",
       "...         ...        ...            ...           ...      ...    ...   \n",
       "62017  validate         46  46_020807.wav          5399        1    559   \n",
       "62018  validate         46  46_020807.wav          5424        1    559   \n",
       "62019  validate         46  46_020853.wav          5337        1    559   \n",
       "62020  validate         46  46_020853.wav          5365        1    559   \n",
       "62021  validate         46  46_020853.wav          5373        1    559   \n",
       "\n",
       "       latitude  longitude  year  week  ...  \\\n",
       "0      40.72951  -73.99388  2019    43  ...   \n",
       "1      40.72951  -73.99388  2019    43  ...   \n",
       "2      40.72951  -73.99388  2019    43  ...   \n",
       "3      40.72951  -73.99388  2019    43  ...   \n",
       "4      40.72951  -73.99388  2019    43  ...   \n",
       "...         ...        ...   ...   ...  ...   \n",
       "62017  40.73365  -73.98879  2018    42  ...   \n",
       "62018  40.73365  -73.98879  2018    42  ...   \n",
       "62019  40.73365  -73.98879  2018    34  ...   \n",
       "62020  40.73365  -73.98879  2018    34  ...   \n",
       "62021  40.73365  -73.98879  2018    34  ...   \n",
       "\n",
       "       7-X_other-unknown-human-voice_proximity  \\\n",
       "0                                           -1   \n",
       "1                                           -1   \n",
       "2                                           -1   \n",
       "3                                           -1   \n",
       "4                                           -1   \n",
       "...                                        ...   \n",
       "62017                                       -1   \n",
       "62018                                       -1   \n",
       "62019                                      far   \n",
       "62020                                       -1   \n",
       "62021                                       -1   \n",
       "\n",
       "       8-1_dog-barking-whining_proximity  1_engine_presence  \\\n",
       "0                                     -1                 -1   \n",
       "1                                     -1                  1   \n",
       "2                                     -1                  1   \n",
       "3                                     -1                 -1   \n",
       "4                                     -1                  1   \n",
       "...                                  ...                ...   \n",
       "62017                                 -1                  0   \n",
       "62018                                 -1                  0   \n",
       "62019                                 -1                  0   \n",
       "62020                                 -1                  0   \n",
       "62021                                 -1                  1   \n",
       "\n",
       "       2_machinery-impact_presence  3_non-machinery-impact_presence  \\\n",
       "0                                1                                0   \n",
       "1                               -1                               -1   \n",
       "2                               -1                               -1   \n",
       "3                                0                                0   \n",
       "4                                0                                1   \n",
       "...                            ...                              ...   \n",
       "62017                            0                                0   \n",
       "62018                            0                                0   \n",
       "62019                            0                                0   \n",
       "62020                            0                                0   \n",
       "62021                            0                                1   \n",
       "\n",
       "       4_powered-saw_presence  5_alert-signal_presence  6_music_presence  \\\n",
       "0                          -1                       -1                -1   \n",
       "1                          -1                       -1                -1   \n",
       "2                          -1                       -1                -1   \n",
       "3                          -1                       -1                -1   \n",
       "4                           0                        0                 0   \n",
       "...                       ...                      ...               ...   \n",
       "62017                       0                        1                 0   \n",
       "62018                       0                        1                 0   \n",
       "62019                       0                        0                 0   \n",
       "62020                       0                        0                 0   \n",
       "62021                       0                        0                 0   \n",
       "\n",
       "       7_human-voice_presence  8_dog_presence  \n",
       "0                          -1              -1  \n",
       "1                          -1              -1  \n",
       "2                          -1              -1  \n",
       "3                          -1              -1  \n",
       "4                           0               0  \n",
       "...                       ...             ...  \n",
       "62017                       0               0  \n",
       "62018                       1               0  \n",
       "62019                       1               0  \n",
       "62020                       0               0  \n",
       "62021                       1               0  \n",
       "\n",
       "[62022 rows x 78 columns]"
      ]
     },
     "execution_count": 27,
     "metadata": {},
     "output_type": "execute_result"
    }
   ],
   "source": [
    "noise = pd.read_csv('../raw_data/noise_pollution.csv')\n",
    "noise"
   ]
  },
  {
   "cell_type": "markdown",
   "metadata": {},
   "source": [
    "### Comprobamos Nulos"
   ]
  },
  {
   "cell_type": "code",
   "execution_count": 17,
   "metadata": {},
   "outputs": [
    {
     "data": {
      "text/plain": [
       "split                      0\n",
       "sensor_id                  0\n",
       "audio_filename             0\n",
       "annotator_id               0\n",
       "borough                    0\n",
       "                          ..\n",
       "4_powered-saw_presence     0\n",
       "5_alert-signal_presence    0\n",
       "6_music_presence           0\n",
       "7_human-voice_presence     0\n",
       "8_dog_presence             0\n",
       "Length: 78, dtype: int64"
      ]
     },
     "execution_count": 17,
     "metadata": {},
     "output_type": "execute_result"
    }
   ],
   "source": [
    "noise.isnull().sum()"
   ]
  },
  {
   "cell_type": "markdown",
   "metadata": {},
   "source": [
    "Se puede observar que no hay valores nulos en ninguna columna."
   ]
  },
  {
   "cell_type": "markdown",
   "metadata": {},
   "source": [
    "### Chequeo Duplicados"
   ]
  },
  {
   "cell_type": "code",
   "execution_count": 18,
   "metadata": {},
   "outputs": [
    {
     "data": {
      "text/html": [
       "<div>\n",
       "<style scoped>\n",
       "    .dataframe tbody tr th:only-of-type {\n",
       "        vertical-align: middle;\n",
       "    }\n",
       "\n",
       "    .dataframe tbody tr th {\n",
       "        vertical-align: top;\n",
       "    }\n",
       "\n",
       "    .dataframe thead th {\n",
       "        text-align: right;\n",
       "    }\n",
       "</style>\n",
       "<table border=\"1\" class=\"dataframe\">\n",
       "  <thead>\n",
       "    <tr style=\"text-align: right;\">\n",
       "      <th></th>\n",
       "      <th>split</th>\n",
       "      <th>sensor_id</th>\n",
       "      <th>audio_filename</th>\n",
       "      <th>annotator_id</th>\n",
       "      <th>borough</th>\n",
       "      <th>block</th>\n",
       "      <th>latitude</th>\n",
       "      <th>longitude</th>\n",
       "      <th>year</th>\n",
       "      <th>week</th>\n",
       "      <th>...</th>\n",
       "      <th>7-X_other-unknown-human-voice_proximity</th>\n",
       "      <th>8-1_dog-barking-whining_proximity</th>\n",
       "      <th>1_engine_presence</th>\n",
       "      <th>2_machinery-impact_presence</th>\n",
       "      <th>3_non-machinery-impact_presence</th>\n",
       "      <th>4_powered-saw_presence</th>\n",
       "      <th>5_alert-signal_presence</th>\n",
       "      <th>6_music_presence</th>\n",
       "      <th>7_human-voice_presence</th>\n",
       "      <th>8_dog_presence</th>\n",
       "    </tr>\n",
       "  </thead>\n",
       "  <tbody>\n",
       "  </tbody>\n",
       "</table>\n",
       "<p>0 rows × 78 columns</p>\n",
       "</div>"
      ],
      "text/plain": [
       "Empty DataFrame\n",
       "Columns: [split, sensor_id, audio_filename, annotator_id, borough, block, latitude, longitude, year, week, day, hour, 1-1_small-sounding-engine_presence, 1-2_medium-sounding-engine_presence, 1-3_large-sounding-engine_presence, 1-X_engine-of-uncertain-size_presence, 2-1_rock-drill_presence, 2-2_jackhammer_presence, 2-3_hoe-ram_presence, 2-4_pile-driver_presence, 2-X_other-unknown-impact-machinery_presence, 3-1_non-machinery-impact_presence, 4-1_chainsaw_presence, 4-2_small-medium-rotating-saw_presence, 4-3_large-rotating-saw_presence, 4-X_other-unknown-powered-saw_presence, 5-1_car-horn_presence, 5-2_car-alarm_presence, 5-3_siren_presence, 5-4_reverse-beeper_presence, 5-X_other-unknown-alert-signal_presence, 6-1_stationary-music_presence, 6-2_mobile-music_presence, 6-3_ice-cream-truck_presence, 6-X_music-from-uncertain-source_presence, 7-1_person-or-small-group-talking_presence, 7-2_person-or-small-group-shouting_presence, 7-3_large-crowd_presence, 7-4_amplified-speech_presence, 7-X_other-unknown-human-voice_presence, 8-1_dog-barking-whining_presence, 1-1_small-sounding-engine_proximity, 1-2_medium-sounding-engine_proximity, 1-3_large-sounding-engine_proximity, 1-X_engine-of-uncertain-size_proximity, 2-1_rock-drill_proximity, 2-2_jackhammer_proximity, 2-3_hoe-ram_proximity, 2-4_pile-driver_proximity, 2-X_other-unknown-impact-machinery_proximity, 3-1_non-machinery-impact_proximity, 4-1_chainsaw_proximity, 4-2_small-medium-rotating-saw_proximity, 4-3_large-rotating-saw_proximity, 4-X_other-unknown-powered-saw_proximity, 5-1_car-horn_proximity, 5-2_car-alarm_proximity, 5-3_siren_proximity, 5-4_reverse-beeper_proximity, 5-X_other-unknown-alert-signal_proximity, 6-1_stationary-music_proximity, 6-2_mobile-music_proximity, 6-3_ice-cream-truck_proximity, 6-X_music-from-uncertain-source_proximity, 7-1_person-or-small-group-talking_proximity, 7-2_person-or-small-group-shouting_proximity, 7-3_large-crowd_proximity, 7-4_amplified-speech_proximity, 7-X_other-unknown-human-voice_proximity, 8-1_dog-barking-whining_proximity, 1_engine_presence, 2_machinery-impact_presence, 3_non-machinery-impact_presence, 4_powered-saw_presence, 5_alert-signal_presence, 6_music_presence, 7_human-voice_presence, 8_dog_presence]\n",
       "Index: []\n",
       "\n",
       "[0 rows x 78 columns]"
      ]
     },
     "execution_count": 18,
     "metadata": {},
     "output_type": "execute_result"
    }
   ],
   "source": [
    "noise[noise.duplicated()]"
   ]
  },
  {
   "cell_type": "markdown",
   "metadata": {},
   "source": [
    "Podemos ver que no hay datos duplicados."
   ]
  },
  {
   "cell_type": "markdown",
   "metadata": {},
   "source": [
    "### Columnas Innecesarias"
   ]
  },
  {
   "cell_type": "markdown",
   "metadata": {},
   "source": [
    "Podemos observar que hay muchas columnas que no son de utilidad para este estudio, por ende, solo se dejan las columnas que tienen datos acerca de motores de carro, ubicaciones y tiempos."
   ]
  },
  {
   "cell_type": "code",
   "execution_count": 29,
   "metadata": {},
   "outputs": [
    {
     "name": "stdout",
     "output_type": "stream",
     "text": [
      "<class 'pandas.core.frame.DataFrame'>\n",
      "RangeIndex: 62022 entries, 0 to 62021\n",
      "Data columns (total 12 columns):\n",
      " #   Column                                 Non-Null Count  Dtype  \n",
      "---  ------                                 --------------  -----  \n",
      " 0   borough                                62022 non-null  int64  \n",
      " 1   block                                  62022 non-null  int64  \n",
      " 2   latitude                               62022 non-null  float64\n",
      " 3   longitude                              62022 non-null  float64\n",
      " 4   year                                   62022 non-null  int64  \n",
      " 5   week                                   62022 non-null  int64  \n",
      " 6   day                                    62022 non-null  int64  \n",
      " 7   hour                                   62022 non-null  int64  \n",
      " 8   1-1_small-sounding-engine_presence     62022 non-null  int64  \n",
      " 9   1-2_medium-sounding-engine_presence    62022 non-null  int64  \n",
      " 10  1-3_large-sounding-engine_presence     62022 non-null  int64  \n",
      " 11  1-X_engine-of-uncertain-size_presence  62022 non-null  int64  \n",
      "dtypes: float64(2), int64(10)\n",
      "memory usage: 5.7 MB\n"
     ]
    }
   ],
   "source": [
    "noise.info()"
   ]
  },
  {
   "cell_type": "code",
   "execution_count": 28,
   "metadata": {},
   "outputs": [],
   "source": [
    "# Selecciona solo las columnas de la 4 a la 15 \n",
    "noise = noise.iloc[:, 4:16]"
   ]
  },
  {
   "cell_type": "markdown",
   "metadata": {},
   "source": [
    "### Observaciones"
   ]
  },
  {
   "cell_type": "markdown",
   "metadata": {},
   "source": [
    "- No hay valores duplicados.\n",
    "- No hay valores nulos.\n",
    "- De las 78 columnas iniciales se dejarán solamente 12 para este estudio.\n",
    "- Los valores de las columnas escogidas no presentan inconsistencias."
   ]
  }
 ],
 "metadata": {
  "kernelspec": {
   "display_name": "Python 3",
   "language": "python",
   "name": "python3"
  },
  "language_info": {
   "codemirror_mode": {
    "name": "ipython",
    "version": 3
   },
   "file_extension": ".py",
   "mimetype": "text/x-python",
   "name": "python",
   "nbconvert_exporter": "python",
   "pygments_lexer": "ipython3",
   "version": "3.11.9"
  }
 },
 "nbformat": 4,
 "nbformat_minor": 2
}

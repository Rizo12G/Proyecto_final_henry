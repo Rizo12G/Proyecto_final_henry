{
 "cells": [
  {
   "cell_type": "code",
   "execution_count": 1,
   "metadata": {},
   "outputs": [],
   "source": [
    "from google.cloud import bigquery\n",
    "import requests\n",
    "from google.cloud import storage\n",
    "import os\n",
    "import pandas as pd"
   ]
  },
  {
   "cell_type": "code",
   "execution_count": 6,
   "metadata": {},
   "outputs": [
    {
     "name": "stdout",
     "output_type": "stream",
     "text": [
      "Datos subidos a datavision-crudos/calidad_del_aire.csv en Google Cloud Storage.\n",
      "Archivo temporal eliminado.\n"
     ]
    }
   ],
   "source": [
    "# URL base de la API\n",
    "base_url = \"https://data.cityofnewyork.us/resource/c3uy-2p5r.json\"\n",
    "\n",
    "# Parámetros para el límite y compensación\n",
    "limit = 1000  # Número máximo de filas por solicitud\n",
    "offset = 0    # Compensación inicial\n",
    "all_data = [] # Lista para almacenar todos los DataFrames\n",
    "\n",
    "# Descargar datos paginados\n",
    "while True:\n",
    "    # Crear la URL con los parámetros de paginación\n",
    "    url = f\"{base_url}?$limit={limit}&$offset={offset}\"\n",
    "    \n",
    "    # Realizar la solicitud GET a la API\n",
    "    response = requests.get(url)\n",
    "    \n",
    "    # Verificar si la solicitud fue exitosa\n",
    "    if response.status_code != 200:\n",
    "        print(f\"Error en la solicitud: {response.status_code}\")\n",
    "        break\n",
    "    \n",
    "    # Leer los datos en un DataFrame de pandas\n",
    "    data = pd.DataFrame(response.json())\n",
    "    \n",
    "    # Si no hay más datos, salir del bucle\n",
    "    if data.empty:\n",
    "        break\n",
    "    \n",
    "    # Agregar el DataFrame a la lista\n",
    "    all_data.append(data)\n",
    "    \n",
    "    # Incrementar el offset\n",
    "    offset += limit\n",
    "\n",
    "# Concatenar todos los DataFrames en uno solo\n",
    "final_data = pd.concat(all_data, ignore_index=True)\n",
    "\n",
    "# Guardar el DataFrame en un archivo CSV temporal\n",
    "local_csv_path = \"./ruta/calidad_del_aire.csv\"\n",
    "final_data.to_csv(local_csv_path, index=False)\n",
    "\n",
    "# Subir el archivo CSV a Google Cloud Storage\n",
    "bucket_name = \"datavision-crudos\"\n",
    "destination_blob_name = \"calidad_del_aire.csv\"\n",
    "\n",
    "def upload_to_gcs(csv_path, bucket_name, destination_blob_name):\n",
    "    client = storage.Client()\n",
    "    bucket = client.get_bucket(bucket_name)\n",
    "    blob = bucket.blob(destination_blob_name)\n",
    "    blob.upload_from_filename(csv_path)\n",
    "    print(f\"Datos subidos a {bucket_name}/{destination_blob_name} en Google Cloud Storage.\")\n",
    "\n",
    "# Ejecuta la subida del archivo a Google Cloud Storage\n",
    "upload_to_gcs(local_csv_path, bucket_name, destination_blob_name)\n",
    "\n",
    "# Eliminar el archivo temporal si no es necesario\n",
    "os.remove(local_csv_path)\n",
    "print(\"Archivo temporal eliminado.\")\n"
   ]
  },
  {
   "cell_type": "code",
   "execution_count": null,
   "metadata": {},
   "outputs": [],
   "source": []
  }
 ],
 "metadata": {
  "kernelspec": {
   "display_name": "myenv",
   "language": "python",
   "name": "python3"
  },
  "language_info": {
   "codemirror_mode": {
    "name": "ipython",
    "version": 3
   },
   "file_extension": ".py",
   "mimetype": "text/x-python",
   "name": "python",
   "nbconvert_exporter": "python",
   "pygments_lexer": "ipython3",
   "version": "3.11.9"
  }
 },
 "nbformat": 4,
 "nbformat_minor": 2
}
